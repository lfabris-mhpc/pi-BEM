{
 "cells": [
  {
   "cell_type": "code",
   "execution_count": 1,
   "metadata": {
    "ExecuteTime": {
     "end_time": "2021-06-15T16:00:40.525737Z",
     "start_time": "2021-06-15T16:00:40.244509Z"
    }
   },
   "outputs": [],
   "source": [
    "import os\n",
    "import re #regex as re\n",
    "import numpy as np\n",
    "import pandas as pd"
   ]
  },
  {
   "cell_type": "code",
   "execution_count": 2,
   "metadata": {
    "ExecuteTime": {
     "end_time": "2021-06-15T16:00:40.874371Z",
     "start_time": "2021-06-15T16:00:40.863982Z"
    }
   },
   "outputs": [],
   "source": [
    "blob = dict()\n",
    "folders = [\"logs_complex_baseline\"]\n",
    "\n",
    "keys = [\"tag\", \n",
    "        \"solver\", \n",
    "        \"nprocs\", \n",
    "        \"nthreads\", \n",
    "        \"mesh_ndofs\", \n",
    "        \"ncomponents\"]\n",
    "measures_teuchos = [\"Assemble Time\",\n",
    "                    \"BEM Reinitialisation Time\", \n",
    "                    \"Epetra_CrsMatrix::Multiply(TransA,X,Y)\",\n",
    "                    \"LAC Solve Time\",\n",
    "                    \"Local Evaluation Time\",\n",
    "                    \"Multipole Generation Time\",\n",
    "                    \"Multipole Integral Time\",\n",
    "                    \"Multipole MatrVec Products Time\",\n",
    "                    \"Solve Time\"\n",
    "                   ]\n",
    "measures_perf = [\"task-clock\",\n",
    "                 \"cycles\",\n",
    "                 \"instructions\",\n",
    "                 \"branches\",\n",
    "                 \"branch-misses\",\n",
    "                 \"L1-dcache-loads\",\n",
    "                 \"L1-dcache-load-misses\",\n",
    "                 \"LLC-loads\",\n",
    "                 \"LLC-load-misses\",\n",
    "                 \"time elapsed\",\n",
    "                 \"user\",\n",
    "                 \"sys\",\n",
    "                ]\n",
    "cols = keys + measures_teuchos + measures_perf"
   ]
  },
  {
   "cell_type": "code",
   "execution_count": 3,
   "metadata": {
    "ExecuteTime": {
     "end_time": "2021-06-15T16:00:41.478253Z",
     "start_time": "2021-06-15T16:00:41.434925Z"
    }
   },
   "outputs": [],
   "source": [
    "def parse_filename(fname):\n",
    "    ret = [#\"\", #\"tag\", \n",
    "           \"\", #\"solver\", \n",
    "           1, #\"nprocs\", \n",
    "           1, #\"nthreads\", \n",
    "           #\"\", #\"mesh_npts\", \n",
    "           1, #\"ncomponents\"\n",
    "          ]\n",
    "    \n",
    "    if \"direct\" in fname:\n",
    "        ret[0] = \"direct\"\n",
    "    else:\n",
    "        ret[0] = \"fma\"\n",
    "    \n",
    "    m = re.search(r\"_np(\\d+)\", fname)\n",
    "    if m:\n",
    "        ret[1] = int(m.group(1))\n",
    "    m = re.search(r\"_nt(\\d+)\", fname)\n",
    "    if m:\n",
    "        ret[2] = int(m.group(1))\n",
    "    \n",
    "    if \"complex\" in fname:\n",
    "        ret[3] = 2\n",
    "        \n",
    "    return ret\n",
    "\n",
    "def load_file(path, blob, tag, solver, nprocs, nthreads, ncomponents):\n",
    "    with open(path, \"r\") as f:\n",
    "        record = dict()\n",
    "        record[\"tag\"] = tag\n",
    "        record[\"solver\"] = solver\n",
    "        record[\"nprocs\"] = nprocs\n",
    "        record[\"nthreads\"] = nthreads\n",
    "        record[\"ncomponents\"] = ncomponents\n",
    "        \n",
    "        reading = False\n",
    "        measures_teuchos_remaining = set(measures_teuchos)\n",
    "        measures_perf_remaining = set(measures_perf)\n",
    "        for l in f.readlines():\n",
    "            tokens = [t for t in l[:-1].split(\" \") if t]\n",
    "\n",
    "            if l.startswith(\"   Number of degrees of freedom: \"):\n",
    "                record[\"mesh_ndofs\"] = int(tokens[-1])\n",
    "            elif l.startswith(\"Timer Name\"):\n",
    "                #new record; reset previous?\n",
    "                \n",
    "                reading = True\n",
    "            elif reading:\n",
    "                found = False\n",
    "                #try to get teuchos measures\n",
    "                for s in measures_teuchos_remaining:\n",
    "                    if l.startswith(s):\n",
    "                        #discard the call count, there remains the time in s\n",
    "                        tmp = float(tokens[-2])\n",
    "                        if record[\"nprocs\"] > 1:\n",
    "                            tmp = float(tokens[-4])\n",
    "                        #print(f\"found {s} in line; attempting to add {tmp}\")\n",
    "                        #print(f\"tokens are {tokens}\")\n",
    "                        record[s] = float(tmp)\n",
    "                        \n",
    "                        measures_teuchos_remaining.remove(s)\n",
    "                        found = True\n",
    "                        break\n",
    "                \n",
    "                if not found:\n",
    "                    for s in measures_perf_remaining:\n",
    "                        if s in l:\n",
    "                            #the interesting value is in tokens[0], but it usually requires stripping \",\" or UoM conversion\n",
    "                            tmp = tokens[0].replace(\",\", \"\")\n",
    "                            #print(f\"found {s} in line; attempting to add {tmp}\")\n",
    "                            #print(f\"tokens are {tokens}\")\n",
    "                            \n",
    "                            if s == \"task-clock\":\n",
    "                                record[s] = float(tmp) / 1000\n",
    "                            elif \".\" in tmp:\n",
    "                                record[s] = float(tmp)\n",
    "                            else:\n",
    "                                record[s] = int(tmp)\n",
    "                                \n",
    "                            measures_perf_remaining.remove(s)\n",
    "                            found = True\n",
    "                            break\n",
    "                #print(f\"remaining keys: {len(measures_teuchos_remaining)} and {len(measures_perf_remaining)}\")\n",
    "                if not measures_teuchos_remaining and not measures_perf_remaining:\n",
    "                    #finished a record\n",
    "                    #print(f\"finished a new record\")\n",
    "                    for k, v in record.items():\n",
    "                        #print(f\"{k}\\t\\t{v}\")\n",
    "                        blob[k].append(v)\n",
    "                        \n",
    "                    reading = False\n",
    "                    measures_teuchos_remaining = set(measures_teuchos)\n",
    "                    measures_perf_remaining = set(measures_perf)"
   ]
  },
  {
   "cell_type": "code",
   "execution_count": 5,
   "metadata": {
    "ExecuteTime": {
     "end_time": "2021-06-15T16:00:48.248938Z",
     "start_time": "2021-06-15T16:00:48.185483Z"
    },
    "scrolled": true
   },
   "outputs": [],
   "source": [
    "#empty blob on which to build, once filled, the dataframe\n",
    "blob = dict()\n",
    "for c in cols:\n",
    "    blob[c] = list()\n",
    "\n",
    "revisions = [\"baseline\",\n",
    "             #\"tightening\"\n",
    "            ]\n",
    "for r in revisions:\n",
    "    dname = os.path.join(os.getcwd(), \"logs_\" + r)\n",
    "    for fname in os.listdir(dname):\n",
    "\n",
    "        load_file(os.path.join(dname, fname),\n",
    "                  blob, r, *parse_filename(fname))\n",
    "\n",
    "#print(blob)\n",
    "df = pd.DataFrame.from_dict(blob)\n",
    "#df.head()\n",
    "#df.groupby(keys).mean()"
   ]
  }
 ],
 "metadata": {
  "kernelspec": {
   "display_name": "Python 3",
   "language": "python",
   "name": "python3"
  },
  "language_info": {
   "codemirror_mode": {
    "name": "ipython",
    "version": 3
   },
   "file_extension": ".py",
   "mimetype": "text/x-python",
   "name": "python",
   "nbconvert_exporter": "python",
   "pygments_lexer": "ipython3",
   "version": "3.7.10"
  }
 },
 "nbformat": 4,
 "nbformat_minor": 4
}
