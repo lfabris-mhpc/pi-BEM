{
 "cells": [
  {
   "cell_type": "code",
   "execution_count": null,
   "metadata": {
    "ExecuteTime": {
     "end_time": "2021-06-30T15:53:30.412590Z",
     "start_time": "2021-06-30T15:53:30.409645Z"
    }
   },
   "outputs": [],
   "source": [
    "import os\n",
    "import glob\n",
    "import re #regex as re\n",
    "import numpy as np\n",
    "import pandas as pd\n",
    "import matplotlib.pyplot as plt"
   ]
  },
  {
   "cell_type": "code",
   "execution_count": null,
   "metadata": {
    "ExecuteTime": {
     "end_time": "2021-06-30T15:44:17.361899Z",
     "start_time": "2021-06-30T15:44:17.333717Z"
    }
   },
   "outputs": [],
   "source": [
    "gl = glob.glob(\"logs_*\")\n",
    "gl"
   ]
  },
  {
   "cell_type": "code",
   "execution_count": null,
   "metadata": {
    "ExecuteTime": {
     "end_time": "2021-06-30T15:44:17.447115Z",
     "start_time": "2021-06-30T15:44:17.363969Z"
    }
   },
   "outputs": [],
   "source": [
    "keys = [\"tag\", \n",
    "        \"solver\", \n",
    "        \"nprocs\", \n",
    "        \"nthreads\", \n",
    "        \"mesh_ndofs\", \n",
    "        \"ncomponents\"]\n",
    "measures_teuchos = [\"Assemble Time\",\n",
    "                    \"BEM Reinitialisation Time\", \n",
    "                    \"Direct Integral Time\",\n",
    "                    \"Epetra_CrsMatrix::Multiply(TransA,X,Y)\",\n",
    "                    \"LAC Solve Time\",\n",
    "                    \"FMA_preconditioner Time\",\n",
    "                    \"Local Evaluation Time\",\n",
    "                    \"Multipole Generation Time\",\n",
    "                    \"Multipole Integral Time\",\n",
    "                    \"Multipole MatrVec Products Time\",\n",
    "                    \"Solve Time\"\n",
    "                   ]\n",
    "measures_perf = [\"task-clock\",\n",
    "                 \"cycles\",\n",
    "                 \"instructions\",\n",
    "                 \"branches\",\n",
    "                 \"branch-misses\",\n",
    "                 \"L1-dcache-loads\",\n",
    "                 \"L1-dcache-load-misses\",\n",
    "                 \"LLC-loads\",\n",
    "                 \"LLC-load-misses\",\n",
    "                 \"time elapsed\",\n",
    "                 \"user\",\n",
    "                 \"sys\",\n",
    "                ]\n",
    "cols = keys + measures_teuchos + measures_perf"
   ]
  },
  {
   "cell_type": "code",
   "execution_count": null,
   "metadata": {
    "ExecuteTime": {
     "end_time": "2021-06-30T15:44:17.526225Z",
     "start_time": "2021-06-30T15:44:17.451667Z"
    }
   },
   "outputs": [],
   "source": [
    "def parse_filename(fname):\n",
    "    ret = [#\"\", #\"tag\", \n",
    "           \"\", #\"solver\", \n",
    "           1, #\"nprocs\", \n",
    "           1, #\"nthreads\", \n",
    "           #\"\", #\"mesh_npts\", \n",
    "           1, #\"ncomponents\"\n",
    "          ]\n",
    "    \n",
    "    if \"direct\" in fname:\n",
    "        ret[0] = \"direct\"\n",
    "    else:\n",
    "        ret[0] = \"fma\"\n",
    "    \n",
    "    m = re.search(r\"_np(\\d+)\", fname)\n",
    "    if m:\n",
    "        ret[1] = int(m.group(1))\n",
    "    m = re.search(r\"_nt(\\d+)\", fname)\n",
    "    if m:\n",
    "        ret[2] = int(m.group(1))\n",
    "    \n",
    "    if \"complex\" in fname:\n",
    "        ret[3] = 2\n",
    "        \n",
    "    return ret\n",
    "\n",
    "def load_file(path, blob, tag, solver, nprocs, nthreads, ncomponents):\n",
    "    with open(path, \"r\") as f:\n",
    "        record = dict()\n",
    "        record[\"tag\"] = tag\n",
    "        record[\"solver\"] = solver\n",
    "        record[\"nprocs\"] = nprocs\n",
    "        record[\"nthreads\"] = nthreads\n",
    "        record[\"ncomponents\"] = ncomponents\n",
    "        \n",
    "        reading = False\n",
    "        measures_teuchos_remaining = set(measures_teuchos)\n",
    "        measures_perf_remaining = set(measures_perf)\n",
    "        for l in f.readlines():\n",
    "            tokens = [t for t in l[:-1].split(\" \") if t]\n",
    "\n",
    "            if l.startswith(\"   Number of degrees of freedom: \"):\n",
    "                record[\"mesh_ndofs\"] = int(tokens[-1])\n",
    "            elif l.startswith(\"Timer Name\"):\n",
    "                #new record; reset previous?\n",
    "                \n",
    "                reading = True\n",
    "            elif reading:\n",
    "                found = False\n",
    "                #try to get teuchos measures\n",
    "                for s in measures_teuchos_remaining:\n",
    "                    if l.startswith(s):\n",
    "                        #discard the call count, there remains the time in s\n",
    "                        tmp = float(tokens[-2])\n",
    "                        if record[\"nprocs\"] > 1:\n",
    "                            tmp = float(tokens[-6])\n",
    "                        #print(f\"found {s} in line; attempting to add {tmp}\")\n",
    "                        #print(f\"tokens are {tokens}\")\n",
    "                        record[s] = float(tmp)\n",
    "                        \n",
    "                        measures_teuchos_remaining.remove(s)\n",
    "                        found = True\n",
    "                        break\n",
    "                \n",
    "                if not found:\n",
    "                    for s in measures_perf_remaining:\n",
    "                        if s in l:\n",
    "                            #the interesting value is in tokens[0], but it usually requires stripping \",\" or UoM conversion\n",
    "                            tmp = tokens[0].replace(\",\", \"\")\n",
    "                            #print(f\"found {s} in line; attempting to add {tmp}\")\n",
    "                            #print(f\"tokens are {tokens}\")\n",
    "                            \n",
    "                            if s == \"task-clock\":\n",
    "                                record[s] = float(tmp) / 1000\n",
    "                            elif \".\" in tmp:\n",
    "                                record[s] = float(tmp)\n",
    "                            else:\n",
    "                                record[s] = int(tmp)\n",
    "                                \n",
    "                            measures_perf_remaining.remove(s)\n",
    "                            found = True\n",
    "                            break\n",
    "                #print(f\"remaining keys: {len(measures_teuchos_remaining)} and {len(measures_perf_remaining)}\")\n",
    "                if not measures_teuchos_remaining and not measures_perf_remaining:\n",
    "                    #finished a record\n",
    "                    #print(f\"finished a new record\")\n",
    "                    for k, v in record.items():\n",
    "                        #print(f\"{k}\\t\\t{v}\")\n",
    "                        blob[k].append(v)\n",
    "                        \n",
    "                    reading = False\n",
    "                    measures_teuchos_remaining = set(measures_teuchos)\n",
    "                    measures_perf_remaining = set(measures_perf)"
   ]
  },
  {
   "cell_type": "code",
   "execution_count": null,
   "metadata": {
    "ExecuteTime": {
     "end_time": "2021-06-30T15:44:17.697509Z",
     "start_time": "2021-06-30T15:44:17.527705Z"
    },
    "scrolled": true
   },
   "outputs": [],
   "source": [
    "#empty blob on which to build, once filled, the dataframe\n",
    "blob = dict()\n",
    "for c in cols:\n",
    "    blob[c] = list()\n",
    "\n",
    "gl = glob.glob(\"logs_*\")\n",
    "revisions = [r[5:] for r in gl]\n",
    "for r in revisions:\n",
    "    dname = os.path.join(os.getcwd(), \"logs_\" + r)\n",
    "    for fname in os.listdir(dname):\n",
    "\n",
    "        load_file(os.path.join(dname, fname),\n",
    "                  blob, r, *parse_filename(fname))\n",
    "\n",
    "#print(blob)\n",
    "df = pd.DataFrame.from_dict(blob)\n",
    "#df.head()\n",
    "#df.groupby(keys).mean()"
   ]
  },
  {
   "cell_type": "code",
   "execution_count": null,
   "metadata": {
    "ExecuteTime": {
     "end_time": "2021-06-30T15:44:17.927101Z",
     "start_time": "2021-06-30T15:44:17.699027Z"
    },
    "code_folding": [],
    "scrolled": false
   },
   "outputs": [],
   "source": [
    "#df.loc[df[\"solver\"] == \"fma\"].groupby(keys).mean().sort_values( [\"nprocs\", \"ncomponents\", \"tag\"])\n",
    "\n",
    "means = df.groupby(keys).mean().sort_values( [\"solver\", \"nprocs\", \"ncomponents\", \"tag\"]).copy().reset_index()\n",
    "varss = df.groupby(keys).mean().sort_values( [\"solver\", \"nprocs\", \"ncomponents\", \"tag\"]).copy().reset_index()\n",
    "stds = df.groupby(keys).mean().sort_values( [\"solver\", \"nprocs\", \"ncomponents\", \"tag\"]).copy().reset_index()"
   ]
  },
  {
   "cell_type": "code",
   "execution_count": null,
   "metadata": {
    "ExecuteTime": {
     "end_time": "2021-06-30T15:44:17.955129Z",
     "start_time": "2021-06-30T15:44:17.929016Z"
    }
   },
   "outputs": [],
   "source": [
    "means.loc[means[\"tag\"]==\"complex_vectors\"][keys + [\"Solve Time\", \"LAC Solve Time\", \"Local Evaluation Time\", \"time elapsed\"]]"
   ]
  },
  {
   "cell_type": "code",
   "execution_count": null,
   "metadata": {
    "ExecuteTime": {
     "end_time": "2021-06-30T15:44:18.470393Z",
     "start_time": "2021-06-30T15:44:17.957691Z"
    }
   },
   "outputs": [],
   "source": [
    "means.loc[(means[\"solver\"] == \"fma\") & (means[\"ncomponents\"] == 2)][keys + [\"Solve Time\", \"time elapsed\"]] #[[\"Solve Time\", \"LAC Solve Time\", \"Local Evaluation Time\", \"time elapsed\"]]"
   ]
  },
  {
   "cell_type": "code",
   "execution_count": null,
   "metadata": {
    "ExecuteTime": {
     "end_time": "2021-06-30T16:05:28.762254Z",
     "start_time": "2021-06-30T16:05:28.759433Z"
    }
   },
   "outputs": [],
   "source": [
    "def series_plot(df, col, label):\n",
    "    #print(df)\n",
    "    ps = df[\"nprocs\"] * df[\"nthreads\"]\n",
    "    ps = ps.tolist()\n",
    "    \n",
    "    #print(ps)\n",
    "\n",
    "    plt.plot(ps, df[col], label=label)"
   ]
  },
  {
   "cell_type": "code",
   "execution_count": null,
   "metadata": {
    "ExecuteTime": {
     "end_time": "2021-06-30T16:08:07.976169Z",
     "start_time": "2021-06-30T16:08:07.345353Z"
    }
   },
   "outputs": [],
   "source": [
    "for col in [\"Direct Integral Time\", \"FMA_preconditioner Time\", \"Local Evaluation Time\", \"Solve Time\", \"time elapsed\"]:\n",
    "    for tag in sorted(means[\"tag\"].unique()):\n",
    "        series_plot(means.loc[(means[\"tag\"] == tag) & (means[\"nprocs\"] == 1)], col, tag)\n",
    "\n",
    "    plt.ylim(bottom=0)\n",
    "    plt.title(col)\n",
    "    plt.legend()\n",
    "    plt.show()"
   ]
  },
  {
   "cell_type": "code",
   "execution_count": null,
   "metadata": {},
   "outputs": [],
   "source": []
  }
 ],
 "metadata": {
  "kernelspec": {
   "display_name": "Python 3",
   "language": "python",
   "name": "python3"
  },
  "language_info": {
   "codemirror_mode": {
    "name": "ipython",
    "version": 3
   },
   "file_extension": ".py",
   "mimetype": "text/x-python",
   "name": "python",
   "nbconvert_exporter": "python",
   "pygments_lexer": "ipython3",
   "version": "3.7.10"
  }
 },
 "nbformat": 4,
 "nbformat_minor": 4
}
